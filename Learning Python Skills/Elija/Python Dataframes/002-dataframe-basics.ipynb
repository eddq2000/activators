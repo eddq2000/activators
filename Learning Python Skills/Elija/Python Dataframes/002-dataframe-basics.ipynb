{
 "cells": [
  {
   "cell_type": "code",
   "execution_count": 2,
   "metadata": {},
   "outputs": [],
   "source": [
    "import json\n",
    "import pandas as pd\n",
    "\n",
    "fileName = '005_Hin_und_her_gelaufen-2023-05-02_15-28-27-Accelerometer.json'\n",
    "\n",
    "with open(fileName) as data:\n",
    "    d = json.load(data)"
   ]
  },
  {
   "cell_type": "code",
   "execution_count": 3,
   "metadata": {},
   "outputs": [
    {
     "name": "stdout",
     "output_type": "stream",
     "text": [
      "             sensor                 time     seconds_elapsed  \\\n",
      "0     Accelerometer  1683041308170431700      0.418431640625   \n",
      "1     Accelerometer  1683041308180431600      0.428431640625   \n",
      "2     Accelerometer  1683041308190431700      0.438431640625   \n",
      "3     Accelerometer  1683041308200431600      0.448431640625   \n",
      "4     Accelerometer  1683041308210431200    0.45843115234375   \n",
      "...             ...                  ...                 ...   \n",
      "1409  Accelerometer  1683041322259293200  14.507293212890625   \n",
      "1410  Accelerometer  1683041322269292000    14.5172919921875   \n",
      "1411  Accelerometer  1683041322279291100     14.527291015625   \n",
      "1412  Accelerometer  1683041322289290200  14.537290283203125   \n",
      "1413  Accelerometer  1683041322299289300  14.547289306640625   \n",
      "\n",
      "                        z                      y                    x  \n",
      "0      0.2973155975341797    0.22171974182128906   0.7862192988395691  \n",
      "1      0.2885780334472656    0.23585844039916992   0.7719455361366272  \n",
      "2     -0.0169830322265625  -0.030160903930664062   1.1861250400543213  \n",
      "3     -0.6457128524780273     0.4699559211730957    1.118873953819275  \n",
      "4     -0.6996736526489258     0.7170271873474121   1.1279146671295166  \n",
      "...                   ...                    ...                  ...  \n",
      "1409   1.4413986206054688    0.39599061012268066   1.4444642066955566  \n",
      "1410   1.0988731384277344    0.37681055068969727   0.9731873273849487  \n",
      "1411   1.0822029113769531     0.5564788579940796    0.972145676612854  \n",
      "1412   1.0222158432006836   -0.09954941272735596  0.25656259059906006  \n",
      "1413    1.002634048461914   -0.46099796891212463   0.2895466089248657  \n",
      "\n",
      "[1414 rows x 6 columns]\n"
     ]
    }
   ],
   "source": [
    "df = pd.DataFrame.from_dict(d, orient='columns')\n",
    "\n",
    "print(df)"
   ]
  }
 ],
 "metadata": {
  "kernelspec": {
   "display_name": "base",
   "language": "python",
   "name": "python3"
  },
  "language_info": {
   "codemirror_mode": {
    "name": "ipython",
    "version": 3
   },
   "file_extension": ".py",
   "mimetype": "text/x-python",
   "name": "python",
   "nbconvert_exporter": "python",
   "pygments_lexer": "ipython3",
   "version": "3.10.9"
  },
  "orig_nbformat": 4
 },
 "nbformat": 4,
 "nbformat_minor": 2
}
