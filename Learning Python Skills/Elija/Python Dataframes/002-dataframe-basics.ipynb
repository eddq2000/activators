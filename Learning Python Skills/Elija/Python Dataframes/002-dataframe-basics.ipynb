{
 "cells": [
  {
   "cell_type": "code",
   "execution_count": 33,
   "metadata": {},
   "outputs": [],
   "source": [
    "import json\n",
    "import pandas as pd\n",
    "\n",
    "fileName = '005_Hin_und_her_gelaufen-2023-05-02_15-28-27-Accelerometer.json'\n",
    "\n",
    "with open(fileName) as data:\n",
    "    d = json.load(data)"
   ]
  },
  {
   "cell_type": "code",
   "execution_count": 34,
   "metadata": {},
   "outputs": [
    {
     "name": "stdout",
     "output_type": "stream",
     "text": [
      "             sensor                 time     seconds_elapsed  \\\n",
      "0     Accelerometer  1683041308170431700      0.418431640625   \n",
      "1     Accelerometer  1683041308180431600      0.428431640625   \n",
      "2     Accelerometer  1683041308190431700      0.438431640625   \n",
      "3     Accelerometer  1683041308200431600      0.448431640625   \n",
      "4     Accelerometer  1683041308210431200    0.45843115234375   \n",
      "...             ...                  ...                 ...   \n",
      "1409  Accelerometer  1683041322259293200  14.507293212890625   \n",
      "1410  Accelerometer  1683041322269292000    14.5172919921875   \n",
      "1411  Accelerometer  1683041322279291100     14.527291015625   \n",
      "1412  Accelerometer  1683041322289290200  14.537290283203125   \n",
      "1413  Accelerometer  1683041322299289300  14.547289306640625   \n",
      "\n",
      "                        z                      y                    x  \n",
      "0      0.2973155975341797    0.22171974182128906   0.7862192988395691  \n",
      "1      0.2885780334472656    0.23585844039916992   0.7719455361366272  \n",
      "2     -0.0169830322265625  -0.030160903930664062   1.1861250400543213  \n",
      "3     -0.6457128524780273     0.4699559211730957    1.118873953819275  \n",
      "4     -0.6996736526489258     0.7170271873474121   1.1279146671295166  \n",
      "...                   ...                    ...                  ...  \n",
      "1409   1.4413986206054688    0.39599061012268066   1.4444642066955566  \n",
      "1410   1.0988731384277344    0.37681055068969727   0.9731873273849487  \n",
      "1411   1.0822029113769531     0.5564788579940796    0.972145676612854  \n",
      "1412   1.0222158432006836   -0.09954941272735596  0.25656259059906006  \n",
      "1413    1.002634048461914   -0.46099796891212463   0.2895466089248657  \n",
      "\n",
      "[1414 rows x 6 columns]\n"
     ]
    }
   ],
   "source": [
    "df = pd.DataFrame.from_dict(d, orient='columns')\n",
    "\n",
    "print(df)"
   ]
  },
  {
   "cell_type": "code",
   "execution_count": 35,
   "metadata": {},
   "outputs": [
    {
     "name": "stdout",
     "output_type": "stream",
     "text": [
      "          sensor                 time seconds_elapsed                    z  \\\n",
      "0  Accelerometer  1683041308170431700  0.418431640625   0.2973155975341797   \n",
      "1  Accelerometer  1683041308180431600  0.428431640625   0.2885780334472656   \n",
      "2  Accelerometer  1683041308190431700  0.438431640625  -0.0169830322265625   \n",
      "\n",
      "                       y                   x  \n",
      "0    0.22171974182128906  0.7862192988395691  \n",
      "1    0.23585844039916992  0.7719455361366272  \n",
      "2  -0.030160903930664062  1.1861250400543213  \n",
      "             sensor                 time     seconds_elapsed  \\\n",
      "1411  Accelerometer  1683041322279291100     14.527291015625   \n",
      "1412  Accelerometer  1683041322289290200  14.537290283203125   \n",
      "1413  Accelerometer  1683041322299289300  14.547289306640625   \n",
      "\n",
      "                       z                     y                    x  \n",
      "1411  1.0822029113769531    0.5564788579940796    0.972145676612854  \n",
      "1412  1.0222158432006836  -0.09954941272735596  0.25656259059906006  \n",
      "1413   1.002634048461914  -0.46099796891212463   0.2895466089248657  \n"
     ]
    }
   ],
   "source": [
    "# Die ersten und letzten rows des DataFrames bekommen\n",
    "print(df.head(3))\n",
    "print(df.tail(3))"
   ]
  },
  {
   "attachments": {},
   "cell_type": "markdown",
   "metadata": {},
   "source": [
    "### Checke Datentypen der Spalten"
   ]
  },
  {
   "cell_type": "code",
   "execution_count": 41,
   "metadata": {},
   "outputs": [
    {
     "name": "stdout",
     "output_type": "stream",
     "text": [
      "sensor              object\n",
      "time                 Int64\n",
      "seconds_elapsed    float64\n",
      "z                   object\n",
      "y                   object\n",
      "x                   object\n",
      "dtype: object\n"
     ]
    }
   ],
   "source": [
    "print(df.dtypes)"
   ]
  },
  {
   "attachments": {},
   "cell_type": "markdown",
   "metadata": {},
   "source": [
    "### Korrigiere Datentypen"
   ]
  },
  {
   "cell_type": "code",
   "execution_count": 40,
   "metadata": {},
   "outputs": [],
   "source": [
    "df['time'] = df['time'].astype('Int64')\n",
    "\n",
    "df['seconds_elapsed'] = df['seconds_elapsed'].astype(float)"
   ]
  },
  {
   "attachments": {},
   "cell_type": "markdown",
   "metadata": {},
   "source": [
    "### Spalte seconds_elapsed nur einstellig nach dem Komma"
   ]
  },
  {
   "cell_type": "code",
   "execution_count": 45,
   "metadata": {},
   "outputs": [
    {
     "name": "stdout",
     "output_type": "stream",
     "text": [
      "0        0.42\n",
      "1        0.43\n",
      "2        0.44\n",
      "3        0.45\n",
      "4        0.46\n",
      "        ...  \n",
      "1409    14.51\n",
      "1410    14.52\n",
      "1411    14.53\n",
      "1412    14.54\n",
      "1413    14.55\n",
      "Name: seconds_elapsed, Length: 1414, dtype: float64\n"
     ]
    }
   ],
   "source": [
    "df['seconds_elapsed'] = df['seconds_elapsed'].round(2)\n",
    "print(df['seconds_elapsed'])"
   ]
  },
  {
   "attachments": {},
   "cell_type": "markdown",
   "metadata": {},
   "source": [
    "### Sortiere Rows nach Zeit"
   ]
  },
  {
   "cell_type": "code",
   "execution_count": 47,
   "metadata": {},
   "outputs": [
    {
     "name": "stdout",
     "output_type": "stream",
     "text": [
      "0        0.42\n",
      "1        0.43\n",
      "2        0.44\n",
      "3        0.45\n",
      "4        0.46\n",
      "        ...  \n",
      "1409    14.51\n",
      "1410    14.52\n",
      "1411    14.53\n",
      "1412    14.54\n",
      "1413    14.55\n",
      "Name: seconds_elapsed, Length: 1414, dtype: float64\n"
     ]
    }
   ],
   "source": [
    "df = df.sort_values(by='seconds_elapsed', ascending=True)\n",
    "print(df['seconds_elapsed'])"
   ]
  }
 ],
 "metadata": {
  "kernelspec": {
   "display_name": "base",
   "language": "python",
   "name": "python3"
  },
  "language_info": {
   "codemirror_mode": {
    "name": "ipython",
    "version": 3
   },
   "file_extension": ".py",
   "mimetype": "text/x-python",
   "name": "python",
   "nbconvert_exporter": "python",
   "pygments_lexer": "ipython3",
   "version": "3.10.9"
  },
  "orig_nbformat": 4
 },
 "nbformat": 4,
 "nbformat_minor": 2
}
